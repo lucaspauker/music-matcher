{
 "cells": [
  {
   "cell_type": "code",
   "execution_count": 15,
   "metadata": {},
   "outputs": [],
   "source": [
    "import os\n",
    "\n",
    "import IPython.display as ipd\n",
    "import numpy as np\n",
    "import pandas as pd\n",
    "import matplotlib.pyplot as plt\n",
    "import ast\n",
    "from sklearn.preprocessing import MinMaxScaler\n",
    "\n",
    "METADATA_DIR = \"./fma_metadata/\""
   ]
  },
  {
   "cell_type": "code",
   "execution_count": 16,
   "metadata": {},
   "outputs": [],
   "source": [
    "def load(filepath):\n",
    "    \"\"\"\n",
    "    Based off code from the fma github\n",
    "    \"\"\"\n",
    "    filename = os.path.basename(filepath)\n",
    "    if \"features\" in filename:\n",
    "        return pd.read_csv(filepath, index_col=0, header=[0, 1, 2])\n",
    "    if \"echonest\" in filename:\n",
    "        return pd.read_csv(filepath, index_col=0, header=[0, 1, 2])\n",
    "    if \"genres\" in filename:\n",
    "        return pd.read_csv(filepath, index_col=0)\n",
    "    if \"tracks\" in filename:\n",
    "        tracks = pd.read_csv(filepath, index_col=0, header=[0, 1])\n",
    "\n",
    "        COLUMNS = [(\"track\", \"tags\"), (\"album\", \"tags\"), (\"artist\", \"tags\"),\n",
    "                   (\"track\", \"genres\"), (\"track\", \"genres_all\")]\n",
    "        for column in COLUMNS:\n",
    "            tracks[column] = tracks[column].map(ast.literal_eval)\n",
    "\n",
    "        COLUMNS = [(\"track\", \"date_created\"), (\"track\", \"date_recorded\"),\n",
    "                   (\"album\", \"date_created\"), (\"album\", \"date_released\"),\n",
    "                   (\"artist\", \"date_created\"), (\"artist\", \"active_year_begin\"),\n",
    "                   (\"artist\", \"active_year_end\")]\n",
    "        for column in COLUMNS:\n",
    "            tracks[column] = pd.to_datetime(tracks[column])\n",
    "\n",
    "        SUBSETS = (\"small\", \"medium\", \"large\")\n",
    "        tracks[\"set\", \"subset\"] = tracks[\"set\", \"subset\"].astype(\n",
    "                \"category\", categories=SUBSETS, ordered=True)\n",
    "\n",
    "        COLUMNS = [(\"track\", \"genre_top\"), (\"track\", \"license\"),\n",
    "                   (\"album\", \"type\"), (\"album\", \"information\"),\n",
    "                   (\"artist\", \"bio\")]\n",
    "        for column in COLUMNS:\n",
    "            tracks[column] = tracks[column].astype(\"category\")\n",
    "\n",
    "        return tracks"
   ]
  },
  {
   "cell_type": "code",
   "execution_count": 17,
   "metadata": {},
   "outputs": [],
   "source": [
    "def extract_features(data):\n",
    "    features = load(METADATA_DIR + \"features.csv\")\n",
    "\n",
    "    keywords = [(\"spectral_centroid\", \"mean\"), (\"spectral_centroid\", \"std\"), (\"chroma_stft\", \"mean\"), (\"chroma_stft\", \"std\")]\n",
    "    feature_table = {}\n",
    "    for composer in data:\n",
    "        feature_table[composer] = []\n",
    "        tracks = data[composer]\n",
    "        for track in tracks:\n",
    "            track_dict = {}\n",
    "            tid = track.name\n",
    "            track_dict[\"title\"] = track[\"track\", \"title\"]\n",
    "            for keyword in keywords:\n",
    "                try:\n",
    "                    track_dict[keyword] = features[keyword].loc[[tid]][\"01\"].item()\n",
    "                except KeyError:\n",
    "                    track_dict[feature] = None\n",
    "                    continue\n",
    "            feature_table[composer] += [track_dict]\n",
    "    return feature_table"
   ]
  },
  {
   "cell_type": "code",
   "execution_count": 18,
   "metadata": {},
   "outputs": [],
   "source": [
    "def load_data(composers_to_learn=None):\n",
    "    tracks = load(METADATA_DIR + \"tracks.csv\")\n",
    "    #genres = load(METADATA_DIR + \"genres.csv\")\n",
    "\n",
    "    tracks = tracks[tracks[\"track\", \"genre_top\"] == \"Classical\"]\n",
    "    tracks = tracks[tracks[\"track\", \"composer\"].notnull()]\n",
    "    composer_dict = {}\n",
    "    for index, row in tracks.iterrows():\n",
    "        composer = row[\"track\", \"composer\"]\n",
    "        if composers_to_learn:\n",
    "            for c in composers_to_learn:\n",
    "                if c in composer:\n",
    "                    composer = composers_to_learn[composers_to_learn.index(c)]\n",
    "        if composers_to_learn and composer not in composers_to_learn:\n",
    "            continue\n",
    "        if composer not in composer_dict:\n",
    "            composer_dict[composer] = [row]\n",
    "        else:\n",
    "            composer_dict[composer] += [row]\n",
    "\n",
    "    return composer_dict"
   ]
  },
  {
   "cell_type": "code",
   "execution_count": 19,
   "metadata": {},
   "outputs": [],
   "source": [
    "def get_learning_data(data):\n",
    "    \"\"\"\n",
    "    Make data usable by sklearn\n",
    "    \"\"\"\n",
    "    composer_era_map = {\"Bach\":\"Baroque\", \"Haydn\":\"Classical\",\n",
    "                        \"Alkan\":\"Romantic\", \"Orff\":\"Modern\"}\n",
    "    x = []\n",
    "    y = []\n",
    "    for composer in data:\n",
    "        for d in data[composer]:\n",
    "            y.append(composer)\n",
    "            vector = []\n",
    "            for feature in d:\n",
    "                if feature != \"title\":\n",
    "                    vector.append(d[feature])\n",
    "            x.append(vector)\n",
    "    return x, y"
   ]
  },
  {
   "cell_type": "code",
   "execution_count": 20,
   "metadata": {},
   "outputs": [],
   "source": [
    "def count_data(composer_dict):\n",
    "    count_dict = {}\n",
    "    for composer in composer_dict:\n",
    "        count_dict[composer] = len(composer_dict[composer])\n",
    "    return count_dict"
   ]
  },
  {
   "cell_type": "code",
   "execution_count": 21,
   "metadata": {},
   "outputs": [
    {
     "name": "stderr",
     "output_type": "stream",
     "text": [
      "/anaconda3/lib/python3.7/site-packages/ipykernel_launcher.py:2: FutureWarning: specifying 'categories' or 'ordered' in .astype() is deprecated; pass a CategoricalDtype instead\n",
      "  \n"
     ]
    },
    {
     "name": "stdout",
     "output_type": "stream",
     "text": [
      "Alkan: 25\n",
      "Orff: 24\n",
      "Bach: 348\n",
      "Haydn: 44\n"
     ]
    }
   ],
   "source": [
    "composers_to_learn = [\"Bach\", \"Haydn\", \"Alkan\", \"Orff\"]\n",
    "composer_data = load_data(composers_to_learn)\n",
    "count_dict = count_data(composer_data)\n",
    "for c in count_dict:\n",
    "    print(c + \": \" + str(count_dict[c]))"
   ]
  },
  {
   "cell_type": "code",
   "execution_count": 24,
   "metadata": {},
   "outputs": [],
   "source": [
    "features = extract_features(composer_data)"
   ]
  },
  {
   "cell_type": "code",
   "execution_count": 27,
   "metadata": {},
   "outputs": [
    {
     "name": "stdout",
     "output_type": "stream",
     "text": [
      "[[0.07084949 0.32044548 0.20633779 0.28088247]\n",
      " [0.06963015 0.27990858 0.50492548 0.72841942]\n",
      " [0.05603891 0.26687064 0.33406139 0.56945052]\n",
      " ...\n",
      " [0.28225449 0.22307405 0.39757253 0.57968829]\n",
      " [0.38078435 0.34880953 0.81390657 0.74882152]\n",
      " [0.32410215 0.15655234 0.63408223 0.80394293]]\n",
      "441 441\n"
     ]
    }
   ],
   "source": [
    "x, y = get_learning_data(features)\n",
    "scaler = MinMaxScaler()\n",
    "x = scaler.fit_transform(x)\n",
    "print(x)\n",
    "print(len(x), len(y))"
   ]
  },
  {
   "cell_type": "markdown",
   "metadata": {},
   "source": [
    "1. visualize\n",
    " - PCA to reduce dimention - use scipy\n",
    " -scatter plot of features\n",
    " -to visualize the data \n",
    " -to see performance of the classifier\n",
    "2. AdaBoost\n",
    "3. Random Forrest"
   ]
  }
 ],
 "metadata": {
  "kernelspec": {
   "display_name": "Python 3",
   "language": "python",
   "name": "python3"
  },
  "language_info": {
   "codemirror_mode": {
    "name": "ipython",
    "version": 3
   },
   "file_extension": ".py",
   "mimetype": "text/x-python",
   "name": "python",
   "nbconvert_exporter": "python",
   "pygments_lexer": "ipython3",
   "version": "3.7.3"
  }
 },
 "nbformat": 4,
 "nbformat_minor": 2
}
