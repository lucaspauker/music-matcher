{
 "cells": [
  {
   "cell_type": "markdown",
   "metadata": {},
   "source": [
    "# CS221 Final Project: Classical Music Classification by Musical Era\n",
    "\n",
    "This project aims to classify classical music by musical era (Baroque, Classical, Romantic, Modern) with composers as a proxy. Using audio processing techniques, such as Short-time Fourier Transform, we extracted features like spectrogram and chromagram of the audio data from two datasets, Free Music Archive and MAESTRO dataset. We used two ensemble classifiers,  AdaBoost and Random Forest, and found that although Adaboost performed marginally better than Random Forest, the latter made more generalizable predictions. Both models achieve an accuracy rate of 60\\% on the test data, which is significantly better than the baseline prediction of 45\\%. Our project reveals the complexity of the era classification task, and we expect more complex models trained on a larger data set to achieve higher success. "
   ]
  },
  {
   "cell_type": "code",
   "execution_count": 1,
   "metadata": {},
   "outputs": [],
   "source": [
    "%matplotlib inline\n",
    "\n",
    "import os\n",
    "\n",
    "import matplotlib\n",
    "import matplotlib.pyplot as plt\n",
    "import IPython.display as ipd\n",
    "import numpy as np\n",
    "import pandas as pd\n",
    "import matplotlib.pyplot as plt\n",
    "import ast\n",
    "import csv\n",
    "import librosa\n",
    "import soundfile as sf\n",
    "\n",
    "from pydub import AudioSegment\n",
    "from random import randint\n",
    "\n",
    "from sklearn.preprocessing import MinMaxScaler\n",
    "from sklearn.model_selection import train_test_split\n",
    "from sklearn.ensemble import RandomForestClassifier\n",
    "from sklearn.ensemble import AdaBoostClassifier\n",
    "\n",
    "METADATA_DIR = \"./fma_metadata/\""
   ]
  },
  {
   "cell_type": "markdown",
   "metadata": {},
   "source": [
    "# Datasets\n",
    "Our model was trained, developed, and tested on a combination of the following two datasets:\n",
    "\n",
    "1. *FMA (Free Music Archive)*: a large-scale dataset of audio files with rich metadata, containing over 100,000 tracks across 161 genres (Defferrard et al). From this dataset, we found 441 tracks that were categorized as \"classical\" and had a valid composer. \n",
    "\n",
    "2. *MAESTRO (MIDI and Audio Edited for Synchronous TRacks and Organization)*: a dataset with over 200 hours of labeled piano performances from 10 years of the International Piano-e-Competition, a piano competition that uses digital piano and records the music. This dataset contained 1282 songs that we could use in our model, making it the largest source of data for our project. Furthermore, we used the suggested 80-10-10 split, which eliminates overlap of pieces between training and test set. \n",
    "\n",
    "In total, our dataset consisted of 1723 songs, and we sampled the first 30 seconds of each song for feature extraction because practically a classifier should be able to make predictions with a limited exposure to the data.\n",
    "The songs were overwhelmingly from the Romantic period, with 789 Romantic songs in our dataset.\n",
    "In addition, we had 541 songs from the Baroque era, 280 from the Classical period, and 113 from the Modern era. The imbalance in the dataset may pose an over-fitting problem. "
   ]
  },
  {
   "cell_type": "markdown",
   "metadata": {},
   "source": [
    "# Feature Extraction\n",
    "We used an audio processing library for Python called librosa to extract the following features using Short-time Fourier Transform from each audio file: chromagram, spectral centroid, spectral rolloff, root mean square value (RMS), and tonal centroid of a track. The chromagram is a distribution of the pitches in a track. The spectral centroid is a measure of the weighted mean of the frequencies over time in a sample of each data point. The spectral rolloff is the frequency below which 85\\% of the spectral energy lies. We expect this feature to be a strong factor because the most distinguishing factor across era is the distribution of spectral energy. The root mean square feature takes the root mean square value of the spectrogram, the distribution of frequency over time.  Lastly, the tonal centroid meaures harmonic properties of the pitches. We also expect to see high weight on this feature because another major distinction between the music from the earlier eras (Baroque and Classical) and the later eras, (Romantic and Modern), are the extent or lack of harmony. For each of the five features, we normalized and computed the mean and standard deviation. "
   ]
  },
  {
   "cell_type": "code",
   "execution_count": 2,
   "metadata": {},
   "outputs": [],
   "source": [
    "def parse_dataset(metadata, composer_era_map):\n",
    "    \"\"\"Given a csv file with metadata from the MAESTRO database,\n",
    "    this method extracts the features from the audio files corresponding\n",
    "    to the data in the csv files and maps them to the correct era.\n",
    "    The method returns data that can be used by a machine learning algorithm.\n",
    "    \"\"\"\n",
    "    x = []\n",
    "    y = []\n",
    "    with open(metadata, \"r\") as csv_file:\n",
    "        reader = csv.reader(csv_file)\n",
    "        for row in reader:\n",
    "            composer = row[0]\n",
    "            if composer == \"canonical_composer\": continue\n",
    "\n",
    "            era = composer_era_map[composer]\n",
    "            audio_file = \"./maestro-v2.0.0/\" + row[5]\n",
    "            song = AudioSegment.from_wav(audio_file)\n",
    "            song_length = len(song)\n",
    "            if song_length > 30000:\n",
    "                short_length = song_length - 30000\n",
    "                rand_point = randint(0, short_length)\n",
    "                splice = song[rand_point: rand_point + 30000]\n",
    "            else:\n",
    "                splice = song\n",
    "            splice.export(audio_file[:-4] + \"_short.wav\", format=\"wav\")\n",
    "            features = get_features(audio_file[:-4] + \"_short.wav\")\n",
    "            y.append(era)\n",
    "            x.append(features)\n",
    "    return x, y"
   ]
  },
  {
   "cell_type": "code",
   "execution_count": 3,
   "metadata": {},
   "outputs": [],
   "source": [
    "def get_features(audio_file_path):\n",
    "    \"\"\"Given the path of an audio file, this method extracts the features\n",
    "    using librosa and returns the features as an array of 10 float values.\n",
    "    \"\"\"\n",
    "    features = []\n",
    "    def feature_stats(name, values):\n",
    "        features.append(np.mean(values))\n",
    "        features.append(np.std(values))\n",
    "    \n",
    "    x, sr = librosa.load(audio_file_path, sr=None, mono=True)\n",
    "    stft = np.abs(librosa.stft(x, n_fft=2048, hop_length=512))\n",
    "    \n",
    "    f = librosa.feature.spectral_centroid(S=stft)[0]\n",
    "    feature_stats('spectral_centroid', f)\n",
    "    \n",
    "    f = librosa.feature.chroma_stft(S=stft**2, n_chroma=12)[0]\n",
    "    feature_stats('chroma_stft', f)\n",
    "    \n",
    "    f = librosa.feature.spectral_rolloff(S=stft)[0]\n",
    "    feature_stats('spectral_rolloff', f)\n",
    "    \n",
    "    f = librosa.feature.rmse(S=stft)[0]\n",
    "    feature_stats('rmse', f)\n",
    "    \n",
    "    \n",
    "    cqt = np.abs(librosa.cqt(x, sr=sr, hop_length=512, bins_per_octave=12, n_bins=7*12, tuning=None))\n",
    "    f = librosa.feature.chroma_cens(C=cqt, n_chroma=12, n_octaves=7)\n",
    "    f = librosa.feature.tonnetz(chroma=f)[0]\n",
    "    feature_stats('tonnetz', f)\n",
    "    \n",
    "    return features"
   ]
  },
  {
   "cell_type": "code",
   "execution_count": 4,
   "metadata": {},
   "outputs": [],
   "source": [
    "metadata = \"./maestro-v2.0.0/maestro-v2.0.0.csv\"\n",
    "composer_era_map = {\"Bach\":\"Baroque\", \"Haydn\":\"Classical\",\n",
    "                    \"Alkan\":\"Romantic\", \"Orff\":\"Modern\",\n",
    "                    \"Alban Berg\":\"Modern\", \"Alexander Scriabin\":\"Modern\",\n",
    "                    \"Anton Arensky\":\"Romantic\", \"Antonio Soler\": \"Classical\",\n",
    "                    \"Carl Maria von Weber\":\"Romantic\", \"Charles Gounod / Franz Liszt\":\"Romantic\",\n",
    "                    \"Claude Debussy\":\"Modern\", \"César Franck\":\"Romantic\", \"Domenico Scarlatti\":\"Baroque\",\n",
    "                    \"Edvard Grieg\":\"Romantic\", \"Felix Mendelssohn\":\"Romantic\",\n",
    "                    \"Felix Mendelssohn / Sergei Rachmaninoff\":\"Romantic\", \"Franz Liszt\":\"Romantic\",\n",
    "                    \"Franz Liszt / Camille Saint-Saëns\":\"Romantic\", \"Franz Liszt / Vladimir Horowitz\":\"Romantic\",\n",
    "                    \"Franz Schubert\":\"Romantic\", \"Franz Schubert / Franz Liszt\":\"Romantic\",\n",
    "                    \"Franz Schubert / Leopold Godowsky\":\"Romantic\", \"Fritz Kreisler / Sergei Rachmaninoff\":\"Romantic\",\n",
    "                    \"Frédéric Chopin\":\"Romantic\", \"George Enescu\":\"Modern\", \"George Frideric Handel\":\"Baroque\",\n",
    "                    \"Georges Bizet / Ferruccio Busoni\":\"Romantic\", \"Georges Bizet / Moritz Moszkowski\":\"Romantic\",\n",
    "                    \"Georges Bizet / Vladimir Horowitz\":\"Romantic\", \"Giuseppe Verdi / Franz Liszt\":\"Romantic\",\n",
    "                    \"Henry Purcell\":\"Baroque\", \"Isaac Albéniz\":\"Romantic\", \"Isaac Albéniz / Leopold Godowsky\":\"Romantic\",\n",
    "                    \"Jean-Philippe Rameau\":\"Baroque\", \"Johann Christian Fischer / Wolfgang Amadeus Mozart\":\"Classical\",\n",
    "                    \"Johann Pachelbel\":\"Baroque\", \"Johann Sebastian Bach\":\"Baroque\",\n",
    "                    \"Johann Sebastian Bach / Egon Petri\":\"Baroque\", \"Johann Sebastian Bach / Ferruccio Busoni\":\"Baroque\",\n",
    "                    \"Johann Sebastian Bach / Franz Liszt\":\"Romantic\", \"Johann Sebastian Bach / Myra Hess\":\"Baroque\",\n",
    "                    \"Johann Strauss / Alfred Grünfeld\":\"Romantic\", \"Johannes Brahms\":\"Romantic\",\n",
    "                    \"Joseph Haydn\":\"Classical\", \"Leoš Janáček\":\"Modern\", \"Ludwig van Beethoven\":\"Classical\",\n",
    "                    \"Mikhail Glinka / Mily Balakirev\":\"Classical\", \"Mily Balakirev\":\"Romantic\",\n",
    "                    \"Modest Mussorgsky\":\"Romantic\", \"Muzio Clementi\":\"Classical\", \"Niccolò Paganini / Franz Liszt\":\"Romantic\",\n",
    "                    \"Nikolai Medtner\":\"Romantic\", \"Nikolai Rimsky-Korsakov / Sergei Rachmaninoff\":\"Romantic\",\n",
    "                    \"Orlando Gibbons\":\"Baroque\", \"Percy Grainger\":\"Modern\",\n",
    "                    \"Pyotr Ilyich Tchaikovsky\":\"Romantic\", \"Pyotr Ilyich Tchaikovsky / Mikhail Pletnev\":\"Romantic\",\n",
    "                    \"Pyotr Ilyich Tchaikovsky / Sergei Rachmaninoff\":\"Romantic\", \"Richard Wagner / Franz Liszt\":\"Romantic\",\n",
    "                    \"Robert Schumann\":\"Romantic\", \"Robert Schumann / Franz Liszt\":\"Romantic\", \"Sergei Rachmaninoff\":\"Romantic\",\n",
    "                    \"Sergei Rachmaninoff / György Cziffra\":\"Romantic\", \"Sergei Rachmaninoff / Vyacheslav Gryaznov\":\"Romantic\",\n",
    "                    \"Wolfgang Amadeus Mozart\":\"Classical\"\n",
    "                   }\n",
    "maestro_x, maestro_y = parse_dataset(metadata, composer_era_map)"
   ]
  },
  {
   "cell_type": "code",
   "execution_count": 5,
   "metadata": {},
   "outputs": [],
   "source": [
    "with open('maestro_x_data.txt', 'w') as f:\n",
    "    for item in maestro_x:\n",
    "        f.write(\"%s\\n\" % item)\n",
    "        \n",
    "with open('maestro_y_data.txt', 'w') as f:\n",
    "    for item in maestro_y:\n",
    "        f.write(\"%s\\n\" % item)"
   ]
  },
  {
   "cell_type": "code",
   "execution_count": 7,
   "metadata": {},
   "outputs": [],
   "source": [
    "def load(filepath):\n",
    "    \"\"\"Based off code from the FMA github, this code loads the FMA\n",
    "    dataset from the csv file. The input to the method is the path of\n",
    "    any csv that comes from the FMA data.\n",
    "    \"\"\"\n",
    "    filename = os.path.basename(filepath)\n",
    "    if \"features\" in filename:\n",
    "        return pd.read_csv(filepath, index_col=0, header=[0, 1, 2])\n",
    "    if \"echonest\" in filename:\n",
    "        return pd.read_csv(filepath, index_col=0, header=[0, 1, 2])\n",
    "    if \"genres\" in filename:\n",
    "        return pd.read_csv(filepath, index_col=0)\n",
    "    if \"tracks\" in filename:\n",
    "        tracks = pd.read_csv(filepath, index_col=0, header=[0, 1])\n",
    "\n",
    "        COLUMNS = [(\"track\", \"tags\"), (\"album\", \"tags\"), (\"artist\", \"tags\"),\n",
    "                   (\"track\", \"genres\"), (\"track\", \"genres_all\")]\n",
    "        for column in COLUMNS:\n",
    "            tracks[column] = tracks[column].map(ast.literal_eval)\n",
    "\n",
    "        COLUMNS = [(\"track\", \"date_created\"), (\"track\", \"date_recorded\"),\n",
    "                   (\"album\", \"date_created\"), (\"album\", \"date_released\"),\n",
    "                   (\"artist\", \"date_created\"), (\"artist\", \"active_year_begin\"),\n",
    "                   (\"artist\", \"active_year_end\")]\n",
    "        for column in COLUMNS:\n",
    "            tracks[column] = pd.to_datetime(tracks[column])\n",
    "\n",
    "        SUBSETS = (\"small\", \"medium\", \"large\")\n",
    "        tracks[\"set\", \"subset\"] = tracks[\"set\", \"subset\"].astype(\n",
    "                \"category\", categories=SUBSETS, ordered=True)\n",
    "\n",
    "        COLUMNS = [(\"track\", \"genre_top\"), (\"track\", \"license\"),\n",
    "                   (\"album\", \"type\"), (\"album\", \"information\"),\n",
    "                   (\"artist\", \"bio\")]\n",
    "        for column in COLUMNS:\n",
    "            tracks[column] = tracks[column].astype(\"category\")\n",
    "\n",
    "        return tracks"
   ]
  },
  {
   "cell_type": "code",
   "execution_count": 8,
   "metadata": {},
   "outputs": [],
   "source": [
    "KEYWORDS = [(\"spectral_centroid\", \"mean\"), (\"spectral_centroid\", \"std\"),\n",
    "            (\"chroma_stft\", \"mean\"), (\"chroma_stft\", \"std\"),\n",
    "            (\"spectral_rolloff\", \"mean\"), (\"spectral_rolloff\", \"std\"),\n",
    "            (\"rmse\", \"mean\"), (\"rmse\", \"std\"),\n",
    "            (\"tonnetz\", \"mean\"), (\"tonnetz\", \"std\")]\n",
    "\n",
    "def extract_features(data):\n",
    "    \"\"\"This method extracts features from the data passed in, creating\n",
    "    a dictionary mapping each composer to an array of feature vectors.\n",
    "    \"\"\"\n",
    "    features = load(METADATA_DIR + \"features.csv\")\n",
    "\n",
    "    feature_table = {}\n",
    "    for composer in data:\n",
    "        feature_table[composer] = []\n",
    "        tracks = data[composer]\n",
    "        for track in tracks:\n",
    "            track_dict = {}\n",
    "            tid = track.name\n",
    "            track_dict[\"title\"] = track[\"track\", \"title\"]\n",
    "            for keyword in KEYWORDS:\n",
    "                try:\n",
    "                    track_dict[keyword] = features[keyword].loc[[tid]][\"01\"].item()\n",
    "                except KeyError:\n",
    "                    track_dict[feature] = None\n",
    "                    continue\n",
    "            feature_table[composer] += [track_dict]\n",
    "    return feature_table"
   ]
  },
  {
   "cell_type": "code",
   "execution_count": 9,
   "metadata": {},
   "outputs": [],
   "source": [
    "def load_data(composers_to_learn=None):\n",
    "    tracks = load(METADATA_DIR + \"tracks.csv\")\n",
    "\n",
    "    tracks = tracks[tracks[\"track\", \"genre_top\"] == \"Classical\"]\n",
    "    tracks = tracks[tracks[\"track\", \"composer\"].notnull()]\n",
    "    composer_dict = {}\n",
    "    for index, row in tracks.iterrows():\n",
    "        composer = row[\"track\", \"composer\"]\n",
    "        if composers_to_learn:\n",
    "            for c in composers_to_learn:\n",
    "                if c in composer:\n",
    "                    composer = composers_to_learn[composers_to_learn.index(c)]\n",
    "        if composers_to_learn and composer not in composers_to_learn:\n",
    "            continue\n",
    "        if composer not in composer_dict:\n",
    "            composer_dict[composer] = [row]\n",
    "        else:\n",
    "            composer_dict[composer] += [row]\n",
    "\n",
    "    return composer_dict"
   ]
  },
  {
   "cell_type": "code",
   "execution_count": 21,
   "metadata": {},
   "outputs": [],
   "source": [
    "def get_learning_data(data):\n",
    "    \"\"\"This method makes the input data usable by sklearn.\n",
    "    It converts the input data into input vectors (x) and output\n",
    "    classifications (y).\n",
    "    \"\"\"\n",
    "    composer_era_map = {\"Bach\":\"Baroque\", \"Haydn\":\"Classical\",\n",
    "                        \"Alkan\":\"Romantic\", \"Orff\":\"Modern\"}\n",
    "    trimmed_data = {}\n",
    "\n",
    "    x = []\n",
    "    y = []\n",
    "    for composer in data:\n",
    "        for d in data[composer]:\n",
    "            y.append(composer_era_map[composer])\n",
    "            vector = []\n",
    "            for feature in d:\n",
    "                if feature != \"title\":\n",
    "                    vector.append(d[feature])\n",
    "            x.append(vector)\n",
    "    return x, y"
   ]
  },
  {
   "cell_type": "code",
   "execution_count": 11,
   "metadata": {},
   "outputs": [],
   "source": [
    "def count_data(composer_dict):\n",
    "    \"\"\"This method counts how many songs in the dataset are composed\n",
    "    by each composer.\n",
    "    \"\"\"\n",
    "    count_dict = {}\n",
    "    for composer in composer_dict:\n",
    "        count_dict[composer] = len(composer_dict[composer])\n",
    "    return count_dict"
   ]
  },
  {
   "cell_type": "code",
   "execution_count": 13,
   "metadata": {},
   "outputs": [
    {
     "name": "stderr",
     "output_type": "stream",
     "text": [
      "/home/lucaspauker/anaconda3/lib/python3.7/site-packages/ipykernel_launcher.py:2: FutureWarning: specifying 'categories' or 'ordered' in .astype() is deprecated; pass a CategoricalDtype instead\n",
      "  \n"
     ]
    },
    {
     "name": "stdout",
     "output_type": "stream",
     "text": [
      "Alkan: 25\n",
      "Orff: 24\n",
      "Bach: 348\n",
      "Haydn: 44\n"
     ]
    }
   ],
   "source": [
    "composers_to_learn = [\"Bach\", \"Haydn\", \"Alkan\", \"Orff\"]\n",
    "composer_data = load_data(composers_to_learn)\n",
    "count_dict = count_data(composer_data)\n",
    "for c in count_dict:\n",
    "    print(c + \": \" + str(count_dict[c]))"
   ]
  },
  {
   "cell_type": "code",
   "execution_count": 14,
   "metadata": {},
   "outputs": [],
   "source": [
    "features = extract_features(composer_data)"
   ]
  },
  {
   "cell_type": "code",
   "execution_count": 22,
   "metadata": {},
   "outputs": [],
   "source": [
    "x, y = get_learning_data(features)"
   ]
  },
  {
   "cell_type": "code",
   "execution_count": 23,
   "metadata": {},
   "outputs": [],
   "source": [
    "agg_x = x + maestro_x\n",
    "agg_y = y + maestro_y"
   ]
  },
  {
   "cell_type": "code",
   "execution_count": 24,
   "metadata": {
    "scrolled": false
   },
   "outputs": [
    {
     "name": "stdout",
     "output_type": "stream",
     "text": [
      "1723 1723\n"
     ]
    }
   ],
   "source": [
    "scaler = MinMaxScaler()\n",
    "agg_x = scaler.fit_transform(agg_x)\n",
    "# print(x)\n",
    "print(len(agg_x), len(agg_y))"
   ]
  },
  {
   "cell_type": "code",
   "execution_count": 45,
   "metadata": {},
   "outputs": [
    {
     "name": "stdout",
     "output_type": "stream",
     "text": [
      "441\n",
      "1282\n"
     ]
    }
   ],
   "source": [
    "print(len(x))\n",
    "print(len(maestro_x))"
   ]
  },
  {
   "cell_type": "code",
   "execution_count": 53,
   "metadata": {},
   "outputs": [
    {
     "name": "stdout",
     "output_type": "stream",
     "text": [
      "{'Romantic': 789, 'Modern': 113, 'Baroque': 541, 'Classical': 280}\n"
     ]
    }
   ],
   "source": [
    "era_dict = {}\n",
    "for point in agg_y:\n",
    "    if point in era_dict: era_dict[point] += 1\n",
    "    else: era_dict[point] = 1\n",
    "print(era_dict)"
   ]
  },
  {
   "cell_type": "code",
   "execution_count": 55,
   "metadata": {
    "scrolled": false
   },
   "outputs": [
    {
     "name": "stdout",
     "output_type": "stream",
     "text": [
      "('spectral_centroid', 'mean') vs. ('spectral_centroid', 'std')\n"
     ]
    },
    {
     "data": {
      "image/png": "[encoded data removed]",
      "text/plain": [
       "<Figure size 432x288 with 1 Axes>"
      ]
     },
     "metadata": {
      "needs_background": "light"
     },
     "output_type": "display_data"
    },
    {
     "name": "stdout",
     "output_type": "stream",
     "text": [
      "\n",
      "('spectral_centroid', 'std') vs. ('spectral_centroid', 'mean')\n"
     ]
    },
    {
     "data": {
      "image/png": "[encoded data removed]",
      "text/plain": [
       "<Figure size 432x288 with 1 Axes>"
      ]
     },
     "metadata": {
      "needs_background": "light"
     },
     "output_type": "display_data"
    },
    {
     "name": "stdout",
     "output_type": "stream",
     "text": [
      "\n"
     ]
    }
   ],
   "source": [
    "# DATA VISUALIZATION\n",
    "single_feature_vectors = [[] for _ in range(len(x[0]))]\n",
    "color_map = {\"Baroque\":\"red\", \"Classical\":\"green\",\n",
    "            \"Romantic\":\"blue\", \"Modern\":\"orange\"}\n",
    "colors = []\n",
    "for k, data_pt in enumerate(agg_x):\n",
    "    colors.append(color_map[agg_y[k]])\n",
    "    for i in range(len(data_pt)):\n",
    "        single_feature_vectors[i].append(data_pt[i])\n",
    "for a in range(2):\n",
    "    for b in range(2):\n",
    "        if a != b:\n",
    "            print(KEYWORDS[a], \"vs.\", KEYWORDS[b])\n",
    "            plt.scatter(single_feature_vectors[a], single_feature_vectors[b], c=colors)\n",
    "            plt.show()\n",
    "            print()"
   ]
  },
  {
   "cell_type": "code",
   "execution_count": 27,
   "metadata": {},
   "outputs": [],
   "source": [
    "x_train, x_test, y_train, y_test = train_test_split(agg_x, agg_y, test_size=0.2)"
   ]
  },
  {
   "cell_type": "markdown",
   "metadata": {},
   "source": [
    "# Adaboost\n",
    "AdaBoost is a boosting algorithm that iterates on the weights with multiple decision stumps to boost performance of these weak classifiers. The weights are first initialized as 1/n, with n being the size of the training set. These decision stumps are “weak” because the value of each weight is a threshold for each feature, dividing the dataset into four subsets based on the threshold value. In each iteration, the weight is updated according to the error measured by an exponential loss function. \n",
    "\n",
    "We chose Adaboost as our preliminary model because features we are using are simple and straightforward relative to the complex nature of the audio data. In order to reconcile the simplicity of the features with the complexity of task, we chose ensemble models that use weak classifiers to model a complex system. "
   ]
  },
  {
   "cell_type": "code",
   "execution_count": 76,
   "metadata": {
    "scrolled": true
   },
   "outputs": [
    {
     "name": "stdout",
     "output_type": "stream",
     "text": [
      "Train accuracy: 0.6400580551523948\n",
      "Test accuracy: 0.5884057971014492\n",
      "[0.02 0.14 0.1  0.1  0.08 0.1  0.14 0.1  0.1  0.12]\n"
     ]
    }
   ],
   "source": [
    "clf = AdaBoostClassifier(n_estimators=50, random_state=0, )\n",
    "clf.fit(x_train, y_train)\n",
    "print(\"Train accuracy:\", clf.score(x_train, y_train))\n",
    "print(\"Test accuracy:\", clf.score(x_test, y_test))\n",
    "print(clf.feature_importances_)"
   ]
  },
  {
   "cell_type": "code",
   "execution_count": 77,
   "metadata": {
    "scrolled": true
   },
   "outputs": [
    {
     "name": "stdout",
     "output_type": "stream",
     "text": [
      "{('Modern', 'Baroque'): 3, ('Baroque', 'Romantic'): 31, ('Romantic', 'Romantic'): 123, ('Baroque', 'Baroque'): 61, ('Classical', 'Romantic'): 35, ('Romantic', 'Baroque'): 16, ('Classical', 'Classical'): 16, ('Modern', 'Romantic'): 13, ('Classical', 'Baroque'): 15, ('Baroque', 'Classical'): 9, ('Romantic', 'Modern'): 4, ('Romantic', 'Classical'): 9, ('Modern', 'Classical'): 4, ('Modern', 'Modern'): 3, ('Classical', 'Modern'): 1, ('Baroque', 'Modern'): 2}\n"
     ]
    }
   ],
   "source": [
    "matrix = {}\n",
    "\n",
    "for i, x in enumerate(x_test):\n",
    "    g = clf.predict([x])[0]\n",
    "    era = y_test[i]\n",
    "    if (era, g) in matrix: matrix[(era,g)] += 1\n",
    "    else: matrix[(era,g)] = 1\n",
    "print(matrix)"
   ]
  },
  {
   "cell_type": "markdown",
   "metadata": {},
   "source": [
    "# Random Forest\n",
    "Random Forest is an ensemble model that combines multiple simple decisions trees for added complexity. One key strength of Random Forest is the robustness against possible overfitting: each decision tree is instantiated randomly, it is more likely to capture the variation in the data. Another difference between Random Forest and Adaboost is that while the number of estimator parameter specifies the number of iteration in Adaboost, the number of estimator is a parameter for the number of decision trees to be constructed in a Random Forest classifier model. Instead of iterating each weight n times, Random Forest takes an average over n decision tree at the end. "
   ]
  },
  {
   "cell_type": "code",
   "execution_count": 78,
   "metadata": {},
   "outputs": [
    {
     "name": "stdout",
     "output_type": "stream",
     "text": [
      "Train accuracy: 0.6008708272859217\n",
      "Test accuracy: 0.5594202898550724\n",
      "[0.09432571 0.12601328 0.00848939 0.00476838 0.10975293 0.34168554\n",
      " 0.06096997 0.03538372 0.01437037 0.20424071]\n"
     ]
    }
   ],
   "source": [
    "clf = RandomForestClassifier(n_estimators=50, max_depth=2, random_state=0)\n",
    "clf.fit(x_train, y_train)\n",
    "print(\"Train accuracy:\", clf.score(x_train, y_train))\n",
    "print(\"Test accuracy:\", clf.score(x_test, y_test))\n",
    "print(clf.feature_importances_)"
   ]
  },
  {
   "cell_type": "markdown",
   "metadata": {},
   "source": [
    "# Comparison of Models\n",
    "Both models were trained with the number of estimator parameter = 50, and performed moderately well with an accuracy rate of ~0.60, which is 0.15 over the threshold value (0.45) and is comparable to the current level of success with genre classification. Nevertheless, an improvement in the performance is desired 60\\% is barely over a majority value. Interestingly, the accuracy of models have consistently decreased from our preliminary results as we increased our data by one order of magnitude (100 -> +1700 data points). This suggests the failure of simple models in processing larger variations in a bigger data set and the necessity of more complex techniques, such as recurrent neural networks. Furthermore, while we expected Random Forest to perform better because it is more robust against over-fitting, Adaboost performed marginally better than Random Forest in both training and test set.\n",
    "\n",
    "An examination of the weight assignment yields more insights into the performance of the two models. First, we observe that the weight assignment for the Adaboost is more uniform across the ten features compared to Random Forest. In fact, the weights for the Adaboost are all around 0.1 for every feature except the mean of the spectral centroid. This is consistent with our understanding of the algorithms because the Adaboost initializes the weight for each feature with 1/n = 1/10 = 0.1 and then updates the weights after each iteration. With our low number of iterations (n=50), it is understandable that the feature weights do not deviate strongly from the initial values. However, we surprisingly found that the Adaboost performs worse with a larger estimator, which suggests the inherent limitation in the algorithm to process complex data. Since the Random Forest merges observations of randomly initialized decision trees, it is more precise than the Adaboost in that it weighs stronger features more heavily. \n",
    "\n",
    "Two notable features for the Random Forest model are the standard deviation of the spectral rolloff (=0.35, over 1/3) and the standard deviation of tonal centroid (=.21). We've seen the importance of the former feature consistently in our previous experiments. For each audio segment, (i.e. for each audio frame), spectral rolloff is the frequency at which 85\\% of the energy lies below the frequency, so the standard deviation of this feature reflects how the energy of a piece changes over time. Intuitively, this comes close to human \"feeling\" of a piece, which makes it a good feature. To illustrate, we expect the spectral energy to be more concentrated in the midrange of piano for a Baroque piece, in contrast with a modern piece, whose spectral energy is more likely to be widely dispersed throughout the possible frequency range. Similarly, the standard deviation of tonal centroid measures how harmonious the chords are in a piece, which is understandably a distinguishing factor for pieces across different eras."
   ]
  },
  {
   "cell_type": "code",
   "execution_count": 79,
   "metadata": {},
   "outputs": [
    {
     "name": "stdout",
     "output_type": "stream",
     "text": [
      "{('Modern', 'Baroque'): 10, ('Baroque', 'Romantic'): 42, ('Romantic', 'Romantic'): 132, ('Baroque', 'Baroque'): 61, ('Classical', 'Romantic'): 36, ('Romantic', 'Baroque'): 20, ('Classical', 'Baroque'): 31, ('Modern', 'Romantic'): 13}\n"
     ]
    }
   ],
   "source": [
    "matrix = {}\n",
    "\n",
    "for i, x in enumerate(x_test):\n",
    "    g = clf.predict([x])[0]\n",
    "    era = y_test[i]\n",
    "    if (era, g) in matrix: matrix[(era,g)] += 1\n",
    "    else: matrix[(era,g)] = 1\n",
    "print(matrix)"
   ]
  },
  {
   "cell_type": "markdown",
   "metadata": {},
   "source": [
    "# Error Analysis\n",
    "First, we can see that the Adaboost classifier never predicted Classical or Modern on the test dataset, which reveals the limitation of the model based on weak classifiers. This model failed to account for the minority data of the pieces from the Classical and Modern eras and over-fitted to the more abundant data. \n",
    "\n",
    "In contrast, the Random Forest model seems provides a more nuanced classification, and we expect that this model would outperform the Adaboost with a larger scale data. We suspect the lower performance on our test set of the Random Forest to the relatively small size of our data. \n",
    "\n",
    "Since a near majority of the data was from the Romantic era, both models performed most successfully in predicting Romantic pieces. We expect to see a notable increase in the performance, especially in the Baroque, Classical, and Baroque data with more song data and more complex models."
   ]
  }
 ],
 "metadata": {
  "kernelspec": {
   "display_name": "Python 3",
   "language": "python",
   "name": "python3"
  },
  "language_info": {
   "codemirror_mode": {
    "name": "ipython",
    "version": 3
   },
   "file_extension": ".py",
   "mimetype": "text/x-python",
   "name": "python",
   "nbconvert_exporter": "python",
   "pygments_lexer": "ipython3",
   "version": "3.7.3"
  }
 },
 "nbformat": 4,
 "nbformat_minor": 2
}
