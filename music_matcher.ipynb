{
 "cells": [
  {
   "cell_type": "code",
   "execution_count": 86,
   "metadata": {},
   "outputs": [],
   "source": [
    "%matplotlib inline\n",
    "\n",
    "import os\n",
    "\n",
    "import matplotlib\n",
    "import matplotlib.pyplot as plt\n",
    "import IPython.display as ipd\n",
    "import numpy as np\n",
    "import pandas as pd\n",
    "import matplotlib.pyplot as plt\n",
    "import ast\n",
    "from sklearn.preprocessing import MinMaxScaler\n",
    "from sklearn.model_selection import train_test_split\n",
    "\n",
    "METADATA_DIR = \"./fma_metadata/\""
   ]
  },
  {
   "cell_type": "code",
   "execution_count": 16,
   "metadata": {},
   "outputs": [],
   "source": [
    "def load(filepath):\n",
    "    \"\"\"\n",
    "    Based off code from the fma github\n",
    "    \"\"\"\n",
    "    filename = os.path.basename(filepath)\n",
    "    if \"features\" in filename:\n",
    "        return pd.read_csv(filepath, index_col=0, header=[0, 1, 2])\n",
    "    if \"echonest\" in filename:\n",
    "        return pd.read_csv(filepath, index_col=0, header=[0, 1, 2])\n",
    "    if \"genres\" in filename:\n",
    "        return pd.read_csv(filepath, index_col=0)\n",
    "    if \"tracks\" in filename:\n",
    "        tracks = pd.read_csv(filepath, index_col=0, header=[0, 1])\n",
    "\n",
    "        COLUMNS = [(\"track\", \"tags\"), (\"album\", \"tags\"), (\"artist\", \"tags\"),\n",
    "                   (\"track\", \"genres\"), (\"track\", \"genres_all\")]\n",
    "        for column in COLUMNS:\n",
    "            tracks[column] = tracks[column].map(ast.literal_eval)\n",
    "\n",
    "        COLUMNS = [(\"track\", \"date_created\"), (\"track\", \"date_recorded\"),\n",
    "                   (\"album\", \"date_created\"), (\"album\", \"date_released\"),\n",
    "                   (\"artist\", \"date_created\"), (\"artist\", \"active_year_begin\"),\n",
    "                   (\"artist\", \"active_year_end\")]\n",
    "        for column in COLUMNS:\n",
    "            tracks[column] = pd.to_datetime(tracks[column])\n",
    "\n",
    "        SUBSETS = (\"small\", \"medium\", \"large\")\n",
    "        tracks[\"set\", \"subset\"] = tracks[\"set\", \"subset\"].astype(\n",
    "                \"category\", categories=SUBSETS, ordered=True)\n",
    "\n",
    "        COLUMNS = [(\"track\", \"genre_top\"), (\"track\", \"license\"),\n",
    "                   (\"album\", \"type\"), (\"album\", \"information\"),\n",
    "                   (\"artist\", \"bio\")]\n",
    "        for column in COLUMNS:\n",
    "            tracks[column] = tracks[column].astype(\"category\")\n",
    "\n",
    "        return tracks"
   ]
  },
  {
   "cell_type": "code",
   "execution_count": 108,
   "metadata": {},
   "outputs": [],
   "source": [
    "KEYWORDS = [(\"spectral_centroid\", \"mean\"), (\"spectral_centroid\", \"std\"),\n",
    "            (\"chroma_stft\", \"mean\"), (\"chroma_stft\", \"std\"),\n",
    "            (\"spectral_rolloff\", \"mean\"), (\"spectral_rolloff\", \"std\"),\n",
    "            (\"rmse\", \"mean\"), (\"rmse\", \"std\"),\n",
    "            (\"tonnetz\", \"mean\"), (\"tonnetz\", \"std\")]\n",
    "\n",
    "def extract_features(data):\n",
    "    features = load(METADATA_DIR + \"features.csv\")\n",
    "\n",
    "    feature_table = {}\n",
    "    for composer in data:\n",
    "        feature_table[composer] = []\n",
    "        tracks = data[composer]\n",
    "        for track in tracks:\n",
    "            track_dict = {}\n",
    "            tid = track.name\n",
    "            track_dict[\"title\"] = track[\"track\", \"title\"]\n",
    "            for keyword in KEYWORDS:\n",
    "                try:\n",
    "                    track_dict[keyword] = features[keyword].loc[[tid]][\"01\"].item()\n",
    "                except KeyError:\n",
    "                    track_dict[feature] = None\n",
    "                    continue\n",
    "            feature_table[composer] += [track_dict]\n",
    "    return feature_table"
   ]
  },
  {
   "cell_type": "code",
   "execution_count": 98,
   "metadata": {},
   "outputs": [],
   "source": [
    "def load_data(composers_to_learn=None):\n",
    "    tracks = load(METADATA_DIR + \"tracks.csv\")\n",
    "    #genres = load(METADATA_DIR + \"genres.csv\")\n",
    "\n",
    "    tracks = tracks[tracks[\"track\", \"genre_top\"] == \"Classical\"]\n",
    "    tracks = tracks[tracks[\"track\", \"composer\"].notnull()]\n",
    "    composer_dict = {}\n",
    "    for index, row in tracks.iterrows():\n",
    "        composer = row[\"track\", \"composer\"]\n",
    "        if composers_to_learn:\n",
    "            for c in composers_to_learn:\n",
    "                if c in composer:\n",
    "                    composer = composers_to_learn[composers_to_learn.index(c)]\n",
    "        if composers_to_learn and composer not in composers_to_learn:\n",
    "            continue\n",
    "        if composer not in composer_dict:\n",
    "            composer_dict[composer] = [row]\n",
    "        else:\n",
    "            composer_dict[composer] += [row]\n",
    "\n",
    "    return composer_dict"
   ]
  },
  {
   "cell_type": "code",
   "execution_count": 71,
   "metadata": {},
   "outputs": [],
   "source": [
    "def get_learning_data(data):\n",
    "    \"\"\"\n",
    "    Make data usable by sklearn\n",
    "    \"\"\"\n",
    "    composer_era_map = {\"Bach\":\"Baroque\", \"Haydn\":\"Classical\",\n",
    "                        \"Alkan\":\"Romantic\", \"Orff\":\"Modern\"}\n",
    "    trimmed_data = {}\n",
    "    era_counts = {}\n",
    "    for composer in data:\n",
    "        era = composer_era_map[composer]\n",
    "        if era not in era_counts: era_counts[era] = len(data[composer])\n",
    "        else: era_counts[era] += len(data[composer])\n",
    "\n",
    "    x = []\n",
    "    y = []\n",
    "    num_tracks = min(era_counts.values())\n",
    "    era_counts = {}\n",
    "    for composer in data:\n",
    "        for d in data[composer]:\n",
    "            era = composer_era_map[composer]\n",
    "            if era not in era_counts: era_counts[era] = 1\n",
    "            else: era_counts[era] += 1\n",
    "            if era_counts[era] > num_tracks: continue\n",
    "            y.append(composer_era_map[composer])\n",
    "            vector = []\n",
    "            for feature in d:\n",
    "                if feature != \"title\":\n",
    "                    vector.append(d[feature])\n",
    "            x.append(vector)\n",
    "    return x, y"
   ]
  },
  {
   "cell_type": "code",
   "execution_count": 20,
   "metadata": {},
   "outputs": [],
   "source": [
    "def count_data(composer_dict):\n",
    "    count_dict = {}\n",
    "    for composer in composer_dict:\n",
    "        count_dict[composer] = len(composer_dict[composer])\n",
    "    return count_dict"
   ]
  },
  {
   "cell_type": "code",
   "execution_count": 21,
   "metadata": {},
   "outputs": [
    {
     "name": "stderr",
     "output_type": "stream",
     "text": [
      "/anaconda3/lib/python3.7/site-packages/ipykernel_launcher.py:2: FutureWarning: specifying 'categories' or 'ordered' in .astype() is deprecated; pass a CategoricalDtype instead\n",
      "  \n"
     ]
    },
    {
     "name": "stdout",
     "output_type": "stream",
     "text": [
      "Alkan: 25\n",
      "Orff: 24\n",
      "Bach: 348\n",
      "Haydn: 44\n"
     ]
    }
   ],
   "source": [
    "composers_to_learn = [\"Bach\", \"Haydn\", \"Alkan\", \"Orff\"]\n",
    "composer_data = load_data(composers_to_learn)\n",
    "count_dict = count_data(composer_data)\n",
    "for c in count_dict:\n",
    "    print(c + \": \" + str(count_dict[c]))"
   ]
  },
  {
   "cell_type": "code",
   "execution_count": 94,
   "metadata": {},
   "outputs": [],
   "source": [
    "features = extract_features(composer_data)"
   ]
  },
  {
   "cell_type": "code",
   "execution_count": 95,
   "metadata": {
    "scrolled": false
   },
   "outputs": [
    {
     "name": "stdout",
     "output_type": "stream",
     "text": [
      "96 96\n"
     ]
    }
   ],
   "source": [
    "x, y = get_learning_data(features)\n",
    "scaler = MinMaxScaler()\n",
    "x = scaler.fit_transform(x)\n",
    "# print(x)\n",
    "print(len(x), len(y))"
   ]
  },
  {
   "cell_type": "code",
   "execution_count": 97,
   "metadata": {
    "scrolled": false
   },
   "outputs": [
    {
     "name": "stdout",
     "output_type": "stream",
     "text": [
      "('spectral_centroid', 'mean') vs. ('spectral_centroid', 'std')\n"
     ]
    },
    {
     "data": {
      "image/png": "[encoded data removed]",
      "text/plain": [
       "<Figure size 432x288 with 1 Axes>"
      ]
     },
     "metadata": {
      "needs_background": "light"
     },
     "output_type": "display_data"
    },
    {
     "name": "stdout",
     "output_type": "stream",
     "text": [
      "\n",
      "('spectral_centroid', 'std') vs. ('spectral_centroid', 'mean')\n"
     ]
    },
    {
     "data": {
      "image/png": "[encoded data removed]",
      "text/plain": [
       "<Figure size 432x288 with 1 Axes>"
      ]
     },
     "metadata": {
      "needs_background": "light"
     },
     "output_type": "display_data"
    },
    {
     "name": "stdout",
     "output_type": "stream",
     "text": [
      "\n"
     ]
    }
   ],
   "source": [
    "# DATA VISUALIZATION\n",
    "single_feature_vectors = [[] for _ in range(len(x[0]))]\n",
    "color_map = {\"Baroque\":\"red\", \"Classical\":\"green\",\n",
    "            \"Romantic\":\"blue\", \"Modern\":\"orange\"}\n",
    "colors = []\n",
    "for k, data_pt in enumerate(x):\n",
    "    colors.append(color_map[y[k]])\n",
    "    for i in range(len(data_pt)):\n",
    "        single_feature_vectors[i].append(data_pt[i])\n",
    "for a in range(2):\n",
    "    for b in range(2):\n",
    "        if a != b:\n",
    "            print(KEYWORDS[a], \"vs.\", KEYWORDS[b])\n",
    "            plt.scatter(single_feature_vectors[a], single_feature_vectors[b], c=colors)\n",
    "            plt.show()\n",
    "            print()"
   ]
  },
  {
   "cell_type": "code",
   "execution_count": 88,
   "metadata": {},
   "outputs": [],
   "source": [
    "x_train, x_test, y_train, y_test = train_test_split(x, y, test_size=0.2)"
   ]
  },
  {
   "cell_type": "code",
   "execution_count": 111,
   "metadata": {},
   "outputs": [],
   "source": [
    "bach_features = extract_features({\"Bach\":composer_data[\"Bach\"]})\n",
    "bach_x, bach_y = get_learning_data(bach_features)"
   ]
  },
  {
   "cell_type": "markdown",
   "metadata": {},
   "source": [
    "1. visualize\n",
    " - PCA to reduce dimention - use scipy\n",
    " -scatter plot of features\n",
    " -to visualize the data \n",
    " -to see performance of the classifier\n",
    "2. AdaBoost\n",
    "3. Random Forrest"
   ]
  }
 ],
 "metadata": {
  "kernelspec": {
   "display_name": "Python 3",
   "language": "python",
   "name": "python3"
  },
  "language_info": {
   "codemirror_mode": {
    "name": "ipython",
    "version": 3
   },
   "file_extension": ".py",
   "mimetype": "text/x-python",
   "name": "python",
   "nbconvert_exporter": "python",
   "pygments_lexer": "ipython3",
   "version": "3.7.3"
  }
 },
 "nbformat": 4,
 "nbformat_minor": 2
}
